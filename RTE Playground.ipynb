{
 "cells": [
  {
   "cell_type": "code",
   "execution_count": 7,
   "metadata": {
    "collapsed": true
   },
   "outputs": [],
   "source": [
    "import numpy as np\n",
    "import theano\n",
    "import nnb"
   ]
  },
  {
   "cell_type": "code",
   "execution_count": 21,
   "metadata": {
    "collapsed": true
   },
   "outputs": [],
   "source": [
    "from nltk.tokenize import word_tokenize\n",
    "from __future__ import print_function\n",
    "import codecs"
   ]
  },
  {
   "cell_type": "code",
   "execution_count": 40,
   "metadata": {
    "collapsed": false
   },
   "outputs": [],
   "source": [
    "from chios import feats_glove\n",
    "\n",
    "glove = feats_glove._get_glove_dict('data/glove.6B.50d.txt')"
   ]
  },
  {
   "cell_type": "code",
   "execution_count": 86,
   "metadata": {
    "collapsed": false
   },
   "outputs": [
    {
     "data": {
      "text/plain": [
       "array([ 0.,  0.,  0.,  0.,  0.,  0.,  0.,  0.,  0.,  0.,  0.,  0.,  0.,\n",
       "        0.,  0.,  0.,  0.,  0.,  0.,  0.,  0.,  0.,  0.,  0.,  0.,  0.,\n",
       "        0.,  0.,  0.,  0.,  0.,  0.,  0.,  0.,  0.,  0.,  0.,  0.,  0.,\n",
       "        0.,  0.,  0.,  0.,  0.,  0.,  0.,  0.,  0.,  0.,  0.])"
      ]
     },
     "execution_count": 86,
     "metadata": {},
     "output_type": "execute_result"
    }
   ],
   "source": [
    "np.zeros(50)"
   ]
  },
  {
   "cell_type": "code",
   "execution_count": 106,
   "metadata": {
    "collapsed": false
   },
   "outputs": [],
   "source": [
    "import csv\n",
    "\n",
    "def glove_bow(sent):\n",
    "    tokens = word_tokenize(sent)\n",
    "    gtokens = [glove[t] for t in tokens if t in glove]\n",
    "    if not gtokens:\n",
    "        return np.zeros(50)\n",
    "    return np.array(gtokens).mean(axis=0)\n",
    "\n",
    "def load_sents(fname):\n",
    "    labels = []\n",
    "    sent0 = []\n",
    "    sent1 = []\n",
    "    sent2 = []\n",
    "    i = 0\n",
    "    with open(fname) as f:\n",
    "        c = csv.DictReader(f)\n",
    "        for l in c:\n",
    "            labels.append(int(l['isCorrect']))\n",
    "            sent0.append(l['qText'].decode('utf8'))\n",
    "            sent1.append(l['aText'].decode('utf8'))\n",
    "            sent2.append(l['abstract'].decode('utf8'))\n",
    "            print('%d\\r', i, end='')\n",
    "            i += 1\n",
    "    return (np.array([glove_bow(s) for s in sent0]), np.array([glove_bow(s) for s in sent1]), np.array([glove_bow(s) for s in sent2]), np.array(labels, dtype='int32'))"
   ]
  },
  {
   "cell_type": "code",
   "execution_count": 107,
   "metadata": {
    "collapsed": false
   },
   "outputs": [
    {
     "name": "stdout",
     "output_type": "stream",
     "text": [
      " 4825"
     ]
    }
   ],
   "source": [
    "s0, s1, s2, y = load_sents('solraoccur-ck12.csv')"
   ]
  },
  {
   "cell_type": "code",
   "execution_count": 91,
   "metadata": {
    "collapsed": false
   },
   "outputs": [
    {
     "data": {
      "text/plain": [
       "1261"
      ]
     },
     "execution_count": 91,
     "metadata": {},
     "output_type": "execute_result"
    }
   ],
   "source": [
    "np.size(y[y==1])"
   ]
  },
  {
   "cell_type": "code",
   "execution_count": 92,
   "metadata": {
    "collapsed": false
   },
   "outputs": [
    {
     "data": {
      "text/plain": [
       "50"
      ]
     },
     "execution_count": 92,
     "metadata": {},
     "output_type": "execute_result"
    }
   ],
   "source": [
    "np.size(s0, axis=1)"
   ]
  },
  {
   "cell_type": "code",
   "execution_count": 54,
   "metadata": {
    "collapsed": false
   },
   "outputs": [
    {
     "data": {
      "text/plain": [
       "array([  1.28560000e-03,  -7.31950000e-01,  -7.92120000e-01,\n",
       "         3.21430000e-01,  -2.08460000e-01,   2.82520000e-01,\n",
       "        -7.11100000e-01,  -6.67910000e-01,   6.36290000e-01,\n",
       "        -5.54920000e-01,   1.38270000e+00,   8.31750000e-01,\n",
       "        -7.34270000e-01,  -9.98490000e-02,   4.76990000e-01,\n",
       "         1.28190000e+00,   5.22030000e-01,   4.08540000e-01,\n",
       "        -1.53810000e+00,  -2.96910000e-02,   7.83350000e-01,\n",
       "         9.27590000e-02,  -8.32810000e-01,   7.86090000e-01,\n",
       "        -8.46890000e-01,  -3.57790000e-01,  -9.69560000e-02,\n",
       "         4.55210000e-01,  -3.39880000e-01,  -2.53210000e-01,\n",
       "        -5.62430000e-01,   9.33300000e-01,   2.51210000e-01,\n",
       "         1.43530000e+00,   1.44480000e-01,  -1.15210000e+00,\n",
       "         5.51970000e-01,  -1.26010000e+00,  -1.33320000e-01,\n",
       "         6.75440000e-01,   4.62340000e-01,   1.60380000e-02,\n",
       "         5.56810000e-01,   5.20990000e-01,  -1.08640000e+00,\n",
       "        -3.56790000e-02,  -4.70180000e-01,   1.29270000e+00,\n",
       "         3.67500000e-01,  -9.88440000e-02])"
      ]
     },
     "execution_count": 54,
     "metadata": {},
     "output_type": "execute_result"
    }
   ],
   "source": [
    "glove_bow('baa')"
   ]
  },
  {
   "cell_type": "code",
   "execution_count": 227,
   "metadata": {
    "collapsed": false
   },
   "outputs": [],
   "source": [
    "# L is 3*100 vector with s0, s1, s2 embeddings\n",
    "L0 = nnb.InputLayer(ndim=1)\n",
    "L1 = nnb.InputLayer(ndim=1)\n",
    "L2 = nnb.InputLayer(ndim=1)\n",
    "C01 = nnb.ConcatenationModel()\n",
    "CC = nnb.ConcatenationModel()\n",
    "C1 = nnb.PerceptronLayer(insize=2*50, outsize=50)\n",
    "C2 = nnb.PerceptronLayer(insize=2*50, outsize=1)\n",
    "qajoin = (L0 & L1) | C01 | C1\n",
    "model = (qajoin & L2) | CC | C2"
   ]
  },
  {
   "cell_type": "code",
   "execution_count": 228,
   "metadata": {
    "collapsed": false
   },
   "outputs": [],
   "source": [
    "expected_output = nnb.InputLayer(ndim=1, dtype='int32')\n",
    "cost_func = nnb.cost.CrossEntropyError()\n",
    "network_cost = (model & expected_output) | cost_func"
   ]
  },
  {
   "cell_type": "code",
   "execution_count": 229,
   "metadata": {
    "collapsed": false
   },
   "outputs": [],
   "source": [
    "trainer = nnb.train.SGDTrainer(model=network_cost, L2_reg=1.0)"
   ]
  },
  {
   "cell_type": "code",
   "execution_count": 203,
   "metadata": {
    "collapsed": false
   },
   "outputs": [],
   "source": [
    "tdata = [[s0[i], s1[i], s2[i], np.array([y[i]*2-1], dtype='int32')] for i in range(s0.shape[0])]"
   ]
  },
  {
   "cell_type": "code",
   "execution_count": 230,
   "metadata": {
    "collapsed": false
   },
   "outputs": [],
   "source": [
    "trainer.train(tdata)"
   ]
  },
  {
   "cell_type": "code",
   "execution_count": 231,
   "metadata": {
    "collapsed": true
   },
   "outputs": [],
   "source": [
    "ff = model.compile()"
   ]
  },
  {
   "cell_type": "code",
   "execution_count": 234,
   "metadata": {
    "collapsed": false
   },
   "outputs": [
    {
     "name": "stdout",
     "output_type": "stream",
     "text": [
      "[ 0.49337077] [-1]\n",
      "[ 0.49477929] [1]\n",
      "[ 0.48821554] [-1]\n",
      "[ 0.48910489] [-1]\n",
      "[ 0.48736033] [-1]\n",
      "[ 0.48843973] [-1]\n",
      "[ 0.48618153] [1]\n",
      "[ 0.49131534] [-1]\n",
      "[ 0.48764079] [1]\n",
      "[ 0.49031397] [-1]\n"
     ]
    }
   ],
   "source": [
    "for i in range(10):\n",
    "    print(ff(s0[i], s1[i], s2[i]), tdata[i][3])"
   ]
  },
  {
   "cell_type": "code",
   "execution_count": 233,
   "metadata": {
    "collapsed": false
   },
   "outputs": [
    {
     "data": {
      "text/plain": [
       "array([[ -9.12021935e-03],\n",
       "       [ -1.29996386e-02],\n",
       "       [ -1.57607323e-02],\n",
       "       [ -1.40582543e-03],\n",
       "       [ -9.42084621e-03],\n",
       "       [  1.22101799e-02],\n",
       "       [ -1.96370770e-02],\n",
       "       [  1.70314188e-02],\n",
       "       [  8.27188316e-03],\n",
       "       [  3.30089549e-04],\n",
       "       [ -1.56943603e-02],\n",
       "       [ -1.41518308e-03],\n",
       "       [  9.93443589e-03],\n",
       "       [ -4.80995374e-03],\n",
       "       [ -1.60372509e-02],\n",
       "       [ -1.12048697e-03],\n",
       "       [ -4.44293435e-03],\n",
       "       [  1.77180542e-02],\n",
       "       [  5.94545204e-03],\n",
       "       [ -8.77283844e-03],\n",
       "       [  1.11316889e-02],\n",
       "       [ -2.31070905e-02],\n",
       "       [ -2.59734235e-03],\n",
       "       [ -4.09359793e-05],\n",
       "       [ -7.89427744e-03],\n",
       "       [  2.23419664e-03],\n",
       "       [ -3.12076876e-04],\n",
       "       [ -3.41965525e-04],\n",
       "       [  3.83875884e-03],\n",
       "       [  1.39420802e-02],\n",
       "       [  6.53064716e-03],\n",
       "       [  1.51883064e-03],\n",
       "       [ -6.35162229e-03],\n",
       "       [  1.04885354e-04],\n",
       "       [  2.46474871e-03],\n",
       "       [  2.53464432e-03],\n",
       "       [  9.91739383e-03],\n",
       "       [ -4.72607699e-03],\n",
       "       [  6.29680456e-03],\n",
       "       [ -5.79295011e-03],\n",
       "       [  8.97375375e-03],\n",
       "       [  8.34845426e-04],\n",
       "       [  9.15917601e-04],\n",
       "       [ -1.60288597e-02],\n",
       "       [ -7.24540421e-03],\n",
       "       [ -4.60354684e-03],\n",
       "       [ -2.92208309e-03],\n",
       "       [ -1.11632213e-02],\n",
       "       [  1.03285082e-02],\n",
       "       [  8.17547196e-03],\n",
       "       [ -7.85988455e-03],\n",
       "       [ -1.82339546e-02],\n",
       "       [  7.93975790e-03],\n",
       "       [ -5.85186590e-03],\n",
       "       [ -8.60169995e-03],\n",
       "       [  1.01736285e-02],\n",
       "       [  6.23781158e-04],\n",
       "       [  2.37991669e-03],\n",
       "       [  1.05303937e-02],\n",
       "       [  3.35524158e-03],\n",
       "       [ -1.96487901e-02],\n",
       "       [  7.77625236e-03],\n",
       "       [ -2.57611164e-03],\n",
       "       [  9.46010387e-03],\n",
       "       [  2.35399393e-02],\n",
       "       [  1.32008394e-02],\n",
       "       [ -1.20392491e-02],\n",
       "       [  1.29270840e-02],\n",
       "       [  3.14795453e-04],\n",
       "       [  7.73277713e-03],\n",
       "       [ -5.99607285e-04],\n",
       "       [  5.87595430e-03],\n",
       "       [ -1.70854239e-02],\n",
       "       [ -1.06387461e-03],\n",
       "       [  1.15805352e-02],\n",
       "       [ -3.10538330e-03],\n",
       "       [ -1.14749647e-02],\n",
       "       [  2.63959532e-03],\n",
       "       [  6.37914664e-03],\n",
       "       [ -3.91291416e-03],\n",
       "       [ -2.21078696e-03],\n",
       "       [ -5.34254385e-03],\n",
       "       [  1.64078722e-02],\n",
       "       [ -9.86067216e-03],\n",
       "       [ -1.36393087e-02],\n",
       "       [  1.77024762e-03],\n",
       "       [  1.08803341e-02],\n",
       "       [ -1.10897643e-02],\n",
       "       [ -1.69914916e-02],\n",
       "       [ -1.76903924e-03],\n",
       "       [  1.63544517e-02],\n",
       "       [  1.21246621e-02],\n",
       "       [  1.20937017e-02],\n",
       "       [  1.68074948e-02],\n",
       "       [ -4.54111686e-03],\n",
       "       [ -6.68143799e-03],\n",
       "       [ -2.67748089e-03],\n",
       "       [  2.52039385e-03],\n",
       "       [ -7.86039374e-03],\n",
       "       [  1.89100395e-02]])"
      ]
     },
     "execution_count": 233,
     "metadata": {},
     "output_type": "execute_result"
    }
   ],
   "source": [
    "C2.params[0].get_value()"
   ]
  },
  {
   "cell_type": "code",
   "execution_count": null,
   "metadata": {
    "collapsed": true
   },
   "outputs": [],
   "source": []
  }
 ],
 "metadata": {
  "kernelspec": {
   "display_name": "Python 2",
   "language": "python",
   "name": "python2"
  },
  "language_info": {
   "codemirror_mode": {
    "name": "ipython",
    "version": 2
   },
   "file_extension": ".py",
   "mimetype": "text/x-python",
   "name": "python",
   "nbconvert_exporter": "python",
   "pygments_lexer": "ipython2",
   "version": "2.7.9"
  }
 },
 "nbformat": 4,
 "nbformat_minor": 0
}
