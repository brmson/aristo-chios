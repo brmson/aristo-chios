{
 "cells": [
  {
   "cell_type": "markdown",
   "metadata": {},
   "source": [
    "## Run This Once"
   ]
  },
  {
   "cell_type": "code",
   "execution_count": 1,
   "metadata": {
    "collapsed": false
   },
   "outputs": [],
   "source": [
    "%load_ext autoreload\n",
    "%autoreload 2"
   ]
  },
  {
   "cell_type": "code",
   "execution_count": 2,
   "metadata": {
    "collapsed": false
   },
   "outputs": [],
   "source": [
    "import sys\n",
    "sys.path.append('.')\n",
    "from train import *\n",
    "from predict import *\n",
    "from eval import *"
   ]
  },
  {
   "cell_type": "markdown",
   "metadata": {},
   "source": [
    "## Keep Running This Round and Round"
   ]
  },
  {
   "cell_type": "code",
   "execution_count": 18,
   "metadata": {
    "collapsed": false
   },
   "outputs": [],
   "source": [
    "import chios.question as cq\n",
    "train_questions = cq.load_questions('../trainmodel_set.tsv')\n",
    "localval_questions = cq.load_questions('../localval_set.tsv')\n",
    "featgen = chios.feats.FeatureGenerator(50)"
   ]
  },
  {
   "cell_type": "code",
   "execution_count": 19,
   "metadata": {
    "collapsed": false
   },
   "outputs": [
    {
     "name": "stderr",
     "output_type": "stream",
     "text": [
      "Question 1998/1999\n"
     ]
    },
    {
     "data": {
      "text/plain": [
       "[('solrcollection10sc', 0.5048393118537583),\n",
       " ('solrck120sc', 1.5182255298003033),\n",
       " ('qe_atoks', 1.244211476099667),\n",
       " ('ae_qtoks', 0.21456467274950486),\n",
       " ('q_aecount', 0.23165580634946209),\n",
       " ('a_qecount', 0.26263388071377469)]"
      ]
     },
     "execution_count": 19,
     "metadata": {},
     "output_type": "execute_result"
    }
   ],
   "source": [
    "cfier = train_cfier(train_questions, featgen)\n",
    "joblib.dump(cfier, 'data/model', compress=3)\n",
    "list(zip(featgen.labels(), cfier.coef_[0]))"
   ]
  },
  {
   "cell_type": "code",
   "execution_count": 20,
   "metadata": {
    "collapsed": false
   },
   "outputs": [
    {
     "name": "stderr",
     "output_type": "stream",
     "text": [
      "Question 1998/1999\n",
      "\n",
      "Accuracy: 0.41221 (824)\n",
      "Question 499/500\n",
      "\n",
      "Accuracy: 0.41200 (206)\n"
     ]
    }
   ],
   "source": [
    "def measure(file, questions):\n",
    "    predict_and_dump(questions, featgen, cfier)\n",
    "    corr, wrong = count_corr(file, 'prediction.csv')\n",
    "    print('', file=sys.stderr)\n",
    "    print('Accuracy: %.5f (%d)' % (corr / (corr+wrong), corr), file=sys.stderr)\n",
    "measure('../trainmodel_set.tsv', train_questions)\n",
    "measure('../localval_set.tsv', localval_questions)"
   ]
  },
  {
   "cell_type": "code",
   "execution_count": 6,
   "metadata": {
    "collapsed": true
   },
   "outputs": [],
   "source": [
    "# To save stuff before rerunning featgen\n",
    "featgen.feat_absoccur.countcache.close()"
   ]
  },
  {
   "cell_type": "code",
   "execution_count": 7,
   "metadata": {
    "collapsed": true
   },
   "outputs": [],
   "source": [
    "chios.question.entlinker.linkcache.close()"
   ]
  },
  {
   "cell_type": "code",
   "execution_count": 2,
   "metadata": {
    "collapsed": false
   },
   "outputs": [
    {
     "data": {
      "text/plain": [
       "[array([ 5, 12]), array([15, 24])]"
      ]
     },
     "execution_count": 2,
     "metadata": {},
     "output_type": "execute_result"
    }
   ],
   "source": [
    "import numpy as np\n",
    "a=np.array([[1,2],[3,4]])\n",
    "b=np.array([[5,6]])\n",
    "[x*y for x in a for y in b]"
   ]
  },
  {
   "cell_type": "code",
   "execution_count": null,
   "metadata": {
    "collapsed": true
   },
   "outputs": [],
   "source": []
  }
 ],
 "metadata": {
  "kernelspec": {
   "display_name": "Python 3",
   "language": "python",
   "name": "python3"
  },
  "language_info": {
   "codemirror_mode": {
    "name": "ipython",
    "version": 3
   },
   "file_extension": ".py",
   "mimetype": "text/x-python",
   "name": "python",
   "nbconvert_exporter": "python",
   "pygments_lexer": "ipython3",
   "version": "3.4.2"
  }
 },
 "nbformat": 4,
 "nbformat_minor": 0
}
