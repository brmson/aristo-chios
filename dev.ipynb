{
 "cells": [
  {
   "cell_type": "markdown",
   "metadata": {},
   "source": [
    "## Run This Once"
   ]
  },
  {
   "cell_type": "code",
   "execution_count": 2,
   "metadata": {
    "collapsed": false
   },
   "outputs": [],
   "source": [
    "%load_ext autoreload\n",
    "%autoreload 2"
   ]
  },
  {
   "cell_type": "code",
   "execution_count": 4,
   "metadata": {
    "collapsed": false
   },
   "outputs": [],
   "source": [
    "import sys\n",
    "sys.path.append('.')\n",
    "from train import *\n",
    "from predict import *\n",
    "from eval import *"
   ]
  },
  {
   "cell_type": "markdown",
   "metadata": {},
   "source": [
    "## Keep Running This Round and Round"
   ]
  },
  {
   "cell_type": "code",
   "execution_count": 176,
   "metadata": {
    "collapsed": false
   },
   "outputs": [],
   "source": [
    "import chios.question as cq\n",
    "train_questions = cq.load_questions('../trainmodel_set.tsv')\n",
    "localval_questions = cq.load_questions('../localval_set.tsv')\n",
    "featgen = chios.feats.FeatureGenerator(50)"
   ]
  },
  {
   "cell_type": "code",
   "execution_count": 177,
   "metadata": {
    "collapsed": false
   },
   "outputs": [
    {
     "name": "stderr",
     "output_type": "stream",
     "text": [
      "Question 1998/1999\n"
     ]
    },
    {
     "data": {
      "text/plain": [
       "[('solr0sc', 1.7665454995602599),\n",
       " ('qe_atoks', 1.553937253477329),\n",
       " ('ae_qtoks', 1.0528177116127817)]"
      ]
     },
     "execution_count": 177,
     "metadata": {},
     "output_type": "execute_result"
    }
   ],
   "source": [
    "cfier = train_cfier(train_questions, featgen)\n",
    "joblib.dump(cfier, 'data/model', compress=3)\n",
    "list(zip(featgen.labels(), cfier.coef_[0]))"
   ]
  },
  {
   "cell_type": "code",
   "execution_count": 178,
   "metadata": {
    "collapsed": false
   },
   "outputs": [
    {
     "name": "stderr",
     "output_type": "stream",
     "text": [
      "Question 1998/1999\n",
      "\n",
      "Accuracy: 0.42421 (848)\n",
      "Question 499/500\n",
      "\n",
      "Accuracy: 0.41200 (206)\n"
     ]
    }
   ],
   "source": [
    "def measure(file, questions):\n",
    "    predict_and_dump(questions, featgen, cfier)\n",
    "    corr, wrong = count_corr(file, 'prediction.csv')\n",
    "    print('', file=sys.stderr)\n",
    "    print('Accuracy: %.5f (%d)' % (corr / (corr+wrong), corr), file=sys.stderr)\n",
    "measure('../trainmodel_set.tsv', train_questions)\n",
    "measure('../localval_set.tsv', localval_questions)"
   ]
  },
  {
   "cell_type": "code",
   "execution_count": 150,
   "metadata": {
    "collapsed": true
   },
   "outputs": [],
   "source": [
    "# To save stuff before rerunning featgen\n",
    "featgen.feat_absoccur.countcache.close()"
   ]
  },
  {
   "cell_type": "code",
   "execution_count": 179,
   "metadata": {
    "collapsed": false
   },
   "outputs": [],
   "source": [
    "featgen.feat_solr.scorecache.close()"
   ]
  },
  {
   "cell_type": "code",
   "execution_count": null,
   "metadata": {
    "collapsed": true
   },
   "outputs": [],
   "source": []
  }
 ],
 "metadata": {
  "kernelspec": {
   "display_name": "Python 3",
   "language": "python",
   "name": "python3"
  },
  "language_info": {
   "codemirror_mode": {
    "name": "ipython",
    "version": 3
   },
   "file_extension": ".py",
   "mimetype": "text/x-python",
   "name": "python",
   "nbconvert_exporter": "python",
   "pygments_lexer": "ipython3",
   "version": "3.4.2"
  }
 },
 "nbformat": 4,
 "nbformat_minor": 0
}
